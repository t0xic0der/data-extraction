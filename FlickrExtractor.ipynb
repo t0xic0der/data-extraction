{
 "cells": [
  {
   "cell_type": "markdown",
   "metadata": {},
   "source": [
    "# Scrapper for Flickr Images\n",
    "__Supports ChromeDriver 70+ for now__\n",
    "\n",
    "__Usage__\n",
    "1. Make sure you have `requests`, `os`, `time` modules installed.\n",
    "2. Download a `chromedriver` compatible with the version of the Google Chrome you have.\n",
    "3. Execute the `mainfunc()` and type in query, number of images and driver location.\n",
    "4. Give stars to the repository if it was helpful."
   ]
  },
  {
   "cell_type": "markdown",
   "metadata": {},
   "source": [
    "__How long the script should wait for the page elements to load correctly__  \n",
    "Default is 1 second (DO NOT MODIFY IF YOU DO NOT KNOW WHAT IT IS)"
   ]
  },
  {
   "cell_type": "code",
   "execution_count": 13,
   "metadata": {},
   "outputs": [],
   "source": [
    "sliptime=1"
   ]
  },
  {
   "cell_type": "markdown",
   "metadata": {},
   "source": [
    "__How long should the script wait before timing out on thumbnail fetch?__  \n",
    "_Set HIGHER value on slower connections and LOWER value of faster ones_  \n",
    "Default is 5 seconds (if `sliptime` is set to 1)"
   ]
  },
  {
   "cell_type": "code",
   "execution_count": 14,
   "metadata": {},
   "outputs": [],
   "source": [
    "tumbtime=5"
   ]
  },
  {
   "cell_type": "markdown",
   "metadata": {},
   "source": [
    "__How long should the script wait before timing out on download fetch?__   \n",
    "Set HIGHER value on slower connections and LOWER value of faster ones  \n",
    "Default is 5 seconds (if `sliptime` is set to 1)"
   ]
  },
  {
   "cell_type": "code",
   "execution_count": 15,
   "metadata": {},
   "outputs": [],
   "source": [
    "icontime=5"
   ]
  },
  {
   "cell_type": "markdown",
   "metadata": {},
   "source": [
    "__Function for finding and gathering links of images__  \n",
    "Stops on `KeyboardInterrupt` event \\[Ctrl+C\\]"
   ]
  },
  {
   "cell_type": "code",
   "execution_count": 7,
   "metadata": {},
   "outputs": [],
   "source": [
    "import requests, os, time\n",
    "from selenium import webdriver\n",
    "\n",
    "def getimage(qury:str, mxft:int, brws:webdriver):\n",
    "    urgt=\"https://www.flickr.com/search/?text=\"+qury\n",
    "    brws.get(urgt)\n",
    "    imageset=[]\n",
    "    try:\n",
    "        for i in range(0,mxft):\n",
    "            tumbcont,iconcont=0,0\n",
    "            print(\"Found some results! Picking \"+str(i)+\"th image from them\")\n",
    "            tumbflag=False\n",
    "            while tumbflag is False:\n",
    "                try:\n",
    "                    picktumb=brws.find_elements_by_class_name(\"overlay\")\n",
    "                    picktumb[i].click()\n",
    "                    print(\"Image thumbnail found! Lets go\")\n",
    "                    iconflag=False\n",
    "                    while iconflag is False:\n",
    "                        try:\n",
    "                            actlimag=brws.find_element_by_css_selector(\"i.ui-icon-download\")\n",
    "                            print(\"Download icon found! Lets go\")\n",
    "                            actlimag.click()\n",
    "                            viewsize=brws.find_element_by_css_selector(\"a.all-sizes\")\n",
    "                            viewsize.click()\n",
    "                            subedown=brws.find_element_by_id(\"allsizes-photo\")\n",
    "                            download=subedown.find_element_by_tag_name(\"img\")\n",
    "                            imageset.append(download.get_attribute(\"src\"))\n",
    "                            brws.back()\n",
    "                            brws.back()\n",
    "                            brws.refresh()\n",
    "                            iconflag=True\n",
    "                        except:\n",
    "                            iconcont+=1\n",
    "                            print(\"Download icon not found! Waiting for ONE second [\"+str(iconcont)+\"/\"+str(icontime)+\"]\")\n",
    "                            if (iconcont>=icontime):\n",
    "                                print(\"Timeout occurred while fetching download icon. Displaying incomplete results.\")\n",
    "                                print(imageset)\n",
    "                                exit()\n",
    "                            else:\n",
    "                                time.sleep(sliptime)\n",
    "                    tumbflag=True\n",
    "                except:\n",
    "                    tumbcont+=1\n",
    "                    print(\"Image thumbnail not found! Waiting for ONE second [\"+str(tumbcont)+\"/\"+str(tumbtime)+\"]\")\n",
    "                    if (tumbcont>=tumbtime):\n",
    "                        print(\"Timeout occurred while fetching thumbnails. Displaying incomplete results.\")\n",
    "                        print(imageset)\n",
    "                        exit()\n",
    "                    else:\n",
    "                        time.sleep(sliptime)\n",
    "    except KeyboardInterrupt:\n",
    "        print(imageset)\n",
    "    print(\"\\nFetch SUCCEEDED! Here are the results\")\n",
    "    print(imageset)\n",
    "    savefile(imageset)"
   ]
  },
  {
   "cell_type": "markdown",
   "metadata": {},
   "source": [
    "__Function for saving images locally__  \n",
    "Requires `wget` to be present on your system  \n",
    "Stops on `KeyboardInterrupt` event \\[Ctrl+C\\]"
   ]
  },
  {
   "cell_type": "code",
   "execution_count": 9,
   "metadata": {},
   "outputs": [],
   "source": [
    "def savefile(imageset):\n",
    "    for link in imageset:\n",
    "        print(\"\\nDownloading \"+link+\"...\")\n",
    "        os.system(\"wget \"+link)\n",
    "    print(\"Successfully downloaded \"+str(len(imageset))+\" images!\")"
   ]
  },
  {
   "cell_type": "markdown",
   "metadata": {},
   "source": [
    "__Driver function__"
   ]
  },
  {
   "cell_type": "code",
   "execution_count": 11,
   "metadata": {},
   "outputs": [],
   "source": [
    "def mainfunc():\n",
    "    print(\"FLICKR SCRAPR by t0xic0der\")\n",
    "    qury=input(\"Enter the query that you wish to search \")\n",
    "    mxft=input(\"Enter the number of images you are looking for \")    \n",
    "    loca=input(\"Enter the location of the web driver \")\n",
    "    brws=webdriver.Chrome(executable_path=loca)\n",
    "    getimage(qury,int(mxft),brws)"
   ]
  },
  {
   "cell_type": "markdown",
   "metadata": {},
   "source": [
    "__Execute it here__  \n",
    "Type in query, number of images and driver location."
   ]
  },
  {
   "cell_type": "code",
   "execution_count": null,
   "metadata": {},
   "outputs": [],
   "source": [
    "mainfunc()"
   ]
  }
 ],
 "metadata": {
  "kernelspec": {
   "display_name": "Python 3",
   "language": "python",
   "name": "python3"
  },
  "language_info": {
   "codemirror_mode": {
    "name": "ipython",
    "version": 3
   },
   "file_extension": ".py",
   "mimetype": "text/x-python",
   "name": "python",
   "nbconvert_exporter": "python",
   "pygments_lexer": "ipython3",
   "version": "3.7.6"
  }
 },
 "nbformat": 4,
 "nbformat_minor": 4
}
